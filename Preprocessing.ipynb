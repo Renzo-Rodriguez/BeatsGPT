{
 "cells": [
  {
   "cell_type": "code",
   "execution_count": 1,
   "id": "7d6b4944-af4a-4092-9eef-394ea44e4e61",
   "metadata": {
    "scrolled": true
   },
   "outputs": [
    {
     "name": "stdout",
     "output_type": "stream",
     "text": [
      "Requirement already satisfied: numpy in ./stem/lib/python3.13/site-packages (2.1.3)\n",
      "Requirement already satisfied: pandas in ./stem/lib/python3.13/site-packages (2.2.3)\n",
      "Requirement already satisfied: matplotlib in ./stem/lib/python3.13/site-packages (3.10.0)\n",
      "Requirement already satisfied: librosa in ./stem/lib/python3.13/site-packages (0.11.0rc1)\n",
      "Requirement already satisfied: pydub in ./stem/lib/python3.13/site-packages (0.25.1)\n",
      "Requirement already satisfied: python-dateutil>=2.8.2 in ./stem/lib/python3.13/site-packages (from pandas) (2.9.0.post0)\n",
      "Requirement already satisfied: pytz>=2020.1 in ./stem/lib/python3.13/site-packages (from pandas) (2025.1)\n",
      "Requirement already satisfied: tzdata>=2022.7 in ./stem/lib/python3.13/site-packages (from pandas) (2025.1)\n",
      "Requirement already satisfied: contourpy>=1.0.1 in ./stem/lib/python3.13/site-packages (from matplotlib) (1.3.1)\n",
      "Requirement already satisfied: cycler>=0.10 in ./stem/lib/python3.13/site-packages (from matplotlib) (0.12.1)\n",
      "Requirement already satisfied: fonttools>=4.22.0 in ./stem/lib/python3.13/site-packages (from matplotlib) (4.56.0)\n",
      "Requirement already satisfied: kiwisolver>=1.3.1 in ./stem/lib/python3.13/site-packages (from matplotlib) (1.4.8)\n",
      "Requirement already satisfied: packaging>=20.0 in ./stem/lib/python3.13/site-packages (from matplotlib) (24.2)\n",
      "Requirement already satisfied: pillow>=8 in ./stem/lib/python3.13/site-packages (from matplotlib) (11.1.0)\n",
      "Requirement already satisfied: pyparsing>=2.3.1 in ./stem/lib/python3.13/site-packages (from matplotlib) (3.2.1)\n",
      "Requirement already satisfied: audioread>=2.1.9 in ./stem/lib/python3.13/site-packages (from librosa) (3.0.1)\n",
      "Requirement already satisfied: numba>=0.51.0 in ./stem/lib/python3.13/site-packages (from librosa) (0.61.0)\n",
      "Requirement already satisfied: scipy>=1.6.0 in ./stem/lib/python3.13/site-packages (from librosa) (1.15.2)\n",
      "Requirement already satisfied: scikit-learn>=1.1.0 in ./stem/lib/python3.13/site-packages (from librosa) (1.6.1)\n",
      "Requirement already satisfied: joblib>=1.0 in ./stem/lib/python3.13/site-packages (from librosa) (1.4.2)\n",
      "Requirement already satisfied: decorator>=4.3.0 in ./stem/lib/python3.13/site-packages (from librosa) (5.1.1)\n",
      "Requirement already satisfied: soundfile>=0.12.1 in ./stem/lib/python3.13/site-packages (from librosa) (0.13.1)\n",
      "Requirement already satisfied: pooch>=1.1 in ./stem/lib/python3.13/site-packages (from librosa) (1.8.2)\n",
      "Requirement already satisfied: soxr>=0.3.2 in ./stem/lib/python3.13/site-packages (from librosa) (0.5.0.post1)\n",
      "Requirement already satisfied: typing_extensions>=4.1.1 in ./stem/lib/python3.13/site-packages (from librosa) (4.12.2)\n",
      "Requirement already satisfied: lazy_loader>=0.1 in ./stem/lib/python3.13/site-packages (from librosa) (0.4)\n",
      "Requirement already satisfied: msgpack>=1.0 in ./stem/lib/python3.13/site-packages (from librosa) (1.1.0)\n",
      "Requirement already satisfied: standard-aifc in ./stem/lib/python3.13/site-packages (from librosa) (3.13.0)\n",
      "Requirement already satisfied: standard-sunau in ./stem/lib/python3.13/site-packages (from librosa) (3.13.0)\n",
      "Requirement already satisfied: llvmlite<0.45,>=0.44.0dev0 in ./stem/lib/python3.13/site-packages (from numba>=0.51.0->librosa) (0.44.0)\n",
      "Requirement already satisfied: platformdirs>=2.5.0 in ./stem/lib/python3.13/site-packages (from pooch>=1.1->librosa) (4.3.6)\n",
      "Requirement already satisfied: requests>=2.19.0 in ./stem/lib/python3.13/site-packages (from pooch>=1.1->librosa) (2.32.3)\n",
      "Requirement already satisfied: six>=1.5 in ./stem/lib/python3.13/site-packages (from python-dateutil>=2.8.2->pandas) (1.17.0)\n",
      "Requirement already satisfied: threadpoolctl>=3.1.0 in ./stem/lib/python3.13/site-packages (from scikit-learn>=1.1.0->librosa) (3.5.0)\n",
      "Requirement already satisfied: cffi>=1.0 in ./stem/lib/python3.13/site-packages (from soundfile>=0.12.1->librosa) (1.17.1)\n",
      "Requirement already satisfied: standard-chunk in ./stem/lib/python3.13/site-packages (from standard-aifc->librosa) (3.13.0)\n",
      "Requirement already satisfied: audioop-lts in ./stem/lib/python3.13/site-packages (from standard-aifc->librosa) (0.2.1)\n",
      "Requirement already satisfied: pycparser in ./stem/lib/python3.13/site-packages (from cffi>=1.0->soundfile>=0.12.1->librosa) (2.22)\n",
      "Requirement already satisfied: charset-normalizer<4,>=2 in ./stem/lib/python3.13/site-packages (from requests>=2.19.0->pooch>=1.1->librosa) (3.4.1)\n",
      "Requirement already satisfied: idna<4,>=2.5 in ./stem/lib/python3.13/site-packages (from requests>=2.19.0->pooch>=1.1->librosa) (3.10)\n",
      "Requirement already satisfied: urllib3<3,>=1.21.1 in ./stem/lib/python3.13/site-packages (from requests>=2.19.0->pooch>=1.1->librosa) (2.3.0)\n",
      "Requirement already satisfied: certifi>=2017.4.17 in ./stem/lib/python3.13/site-packages (from requests>=2.19.0->pooch>=1.1->librosa) (2025.1.31)\n"
     ]
    }
   ],
   "source": [
    "!pip install numpy pandas matplotlib librosa pydub"
   ]
  },
  {
   "cell_type": "code",
   "execution_count": 4,
   "id": "bee74d1e-99b7-4e0e-a9fd-e2c8453d2ee5",
   "metadata": {},
   "outputs": [],
   "source": [
    "import os\n",
    "import librosa\n",
    "import numpy as np\n",
    "import multiprocessing as mp\n",
    "from glob import glob\n",
    "from tqdm import tqdm\n",
    "from pydub import AudioSegment\n",
    "from concurrent.futures import ProcessPoolExecutor\n",
    "import librosa\n",
    "from scipy.signal import istft\n",
    "import subprocess\n",
    "import soundfile as sf\n",
    "from concurrent.futures import ThreadPoolExecutor\n",
    "from pydub.utils import mediainfo\n",
    "\n",
    "#mp.set_start_method(\"spawn\")"
   ]
  },
  {
   "cell_type": "code",
   "execution_count": null,
   "id": "8b855083-d3d5-4699-bdf8-aeb7ef17e5a9",
   "metadata": {
    "jupyter": {
     "source_hidden": true
    }
   },
   "outputs": [],
   "source": [
    "# to download the data used in this project please go to https://github.com/mdeff/fma?tab=readme-ov-file and download the appropriate size data\n",
    "# it will be in a zip format and consider  your computers processing capabilities\n"
   ]
  },
  {
   "cell_type": "code",
   "execution_count": 6,
   "id": "1d7213f1-cf66-4b1d-985b-fa44e355621d",
   "metadata": {},
   "outputs": [],
   "source": [
    "\n",
    "\n",
    "def is_mp3_valid(file_path):\n",
    "    \"\"\"Checks if the MP3 file is valid using mediainfo and ensures it can be opened.\"\"\"\n",
    "    try:\n",
    "        if not os.path.exists(file_path) or not file_path.lower().endswith('.mp3'):\n",
    "            print(f\"⚠ Not an MP3 file: {file_path}\")\n",
    "            return False\n",
    "        \n",
    "        info = mediainfo(file_path)\n",
    "        if 'audio' not in info.get('codec_type', ''):\n",
    "            print(f\"⚠ Invalid MP3 file: {file_path} (wrong codec type)\")\n",
    "            return False\n",
    "        \n",
    "        # Attempt to open the file using pydub\n",
    "        from pydub import AudioSegment\n",
    "        AudioSegment.from_file(file_path)\n",
    "        return True\n",
    "\n",
    "    except Exception as e:\n",
    "        print(f\"⚠ MP3 validation failed for {file_path}: {e}\")\n",
    "        return False\n",
    "\n",
    "\n",
    "\n",
    "\n",
    "def process_segment(segment, sr, num_freqs=5):\n",
    "    \"\"\"Extracts the top frequencies, amplitudes, and phases for a segment.\"\"\"\n",
    "    if len(segment) == 0:\n",
    "        return None\n",
    "\n",
    "    fft_complex = np.fft.rfft(segment)\n",
    "    magnitudes = np.abs(fft_complex)\n",
    "    phases = np.angle(fft_complex)\n",
    "    freqs = np.fft.rfftfreq(len(segment), d=1/sr)\n",
    "\n",
    "    # Get top N frequencies\n",
    "    top_indices = np.argsort(magnitudes)[-num_freqs:]\n",
    "    top_freqs = freqs[top_indices]\n",
    "    top_mags = magnitudes[top_indices]\n",
    "    top_phases = phases[top_indices]\n",
    "\n",
    "    return list(zip(top_freqs, top_mags, top_phases))\n",
    "\n",
    "def load_audio(file_path, sample_rate):\n",
    "    \"\"\"Loads an audio file with a fallback to pydub if librosa fails.\"\"\"\n",
    "    try:\n",
    "        # Try loading with soundfile backend first\n",
    "        y, sr = sf.read(file_path, always_2d=True)\n",
    "        y = y.mean(axis=1)  # Convert stereo to mono\n",
    "        return y, sample_rate\n",
    "    except Exception as e1:\n",
    "        print(f\"⚠ Soundfile failed for {file_path}, trying Librosa (FFmpeg)... Error: {e1}\")\n",
    "        try:\n",
    "            return librosa.load(file_path, sr=sample_rate, mono=True, backend=\"ffmpeg\")\n",
    "        except Exception as e2:\n",
    "            print(f\"⚠ Librosa (FFmpeg) failed for {file_path}, trying pydub... Error: {e2}\")\n",
    "            try:\n",
    "                audio = AudioSegment.from_file(file_path)\n",
    "                audio = audio.set_frame_rate(sample_rate).set_channels(1)\n",
    "                samples = np.array(audio.get_array_of_samples(), dtype=np.float32) / 32768.0\n",
    "                return samples, sample_rate\n",
    "            except Exception as e3:\n",
    "                print(f\"❌ Error loading {file_path} with all methods: {e3}\")\n",
    "                return None, None\n",
    "                \n",
    "def process_audio_file(file_path, segment_length=1/8, sample_rate=44100, num_freqs=5, max_segments=128):\n",
    "    \"\"\"Processes an MP3 file into fixed-length frequency tokens for transformer training.\"\"\"\n",
    "    if not is_mp3_valid(file_path):\n",
    "        print(f\"⚠ Skipping corrupt file: {file_path}\")\n",
    "        return None  # Skip this file\n",
    "\n",
    "    try:\n",
    "        y, sr = load_audio(file_path, sample_rate)\n",
    "        if y is None:\n",
    "            return None  # Skip files that couldn't be loaded\n",
    "\n",
    "        samples_per_segment = int(segment_length * sr)\n",
    "        segments = [y[i:i+samples_per_segment] for i in range(0, len(y), samples_per_segment)]\n",
    "\n",
    "        # Process each segment into (num_freqs, 3) tokens\n",
    "        results = [process_segment(seg, sr, num_freqs) for seg in segments]\n",
    "\n",
    "        # Remove None values\n",
    "        results = [res for res in results if res is not None]\n",
    "\n",
    "        # Convert to NumPy array and ensure fixed shape (max_segments, num_freqs, 3)\n",
    "        results = np.array(results, dtype=np.float32)\n",
    "\n",
    "        # Pad or truncate to a fixed shape (128, num_freqs, 3) for transformer input\n",
    "        if len(results) < max_segments:\n",
    "            padding = np.zeros((max_segments - len(results), num_freqs, 3), dtype=np.float32)\n",
    "            results = np.vstack((results, padding))\n",
    "        else:\n",
    "            results = results[:max_segments]  # Truncate if too long\n",
    "\n",
    "        return results  # Returns (128, num_freqs, 3) array\n",
    "    except Exception as e:\n",
    "        print(f\"❌ Error processing {file_path}: {e}\")\n",
    "        return None\n",
    "\n",
    "\n",
    "def process_folder(folder_path, output_folder, folder_index, total_folders):\n",
    "    \"\"\"Process all MP3 files in a given folder sequentially.\"\"\"\n",
    "    folder_name = os.path.basename(folder_path)\n",
    "    audio_files = sorted(glob(os.path.join(folder_path, \"*.mp3\")))\n",
    "\n",
    "    if not audio_files:\n",
    "        print(f\"⚠ No MP3 files found in {folder_name}\")\n",
    "        return\n",
    "\n",
    "    print(f\"🟢 Processing folder {folder_index + 1}/{total_folders}: {folder_name} ({len(audio_files)} files)\")\n",
    "\n",
    "    token_dict = {}\n",
    "    skipped_files = 0  # Track number of skipped files\n",
    "\n",
    "    for i, audio_file in enumerate(audio_files):\n",
    "        if not is_mp3_valid(audio_file):  # Skip invalid MP3s\n",
    "            skipped_files += 1\n",
    "            continue\n",
    "\n",
    "        tokens = process_audio_file(audio_file)  \n",
    "        if tokens is not None:\n",
    "            token_dict[os.path.basename(audio_file)] = tokens\n",
    "\n",
    "    if token_dict:\n",
    "        save_path = os.path.join(output_folder, f\"{folder_name}_tokens.npz\")\n",
    "        np.savez_compressed(save_path, **token_dict)\n",
    "        print(f\"✅ Saved: {save_path}\")\n",
    "    else:\n",
    "        print(f\"⚠ No valid tokens extracted in {folder_name} (Skipped {skipped_files} corrupt files)\")\n",
    "\n",
    "def process_all_folders(base_folder, output_folder, num_workers=2):\n",
    "    \"\"\"Process multiple folders in parallel using threads (safer alternative).\"\"\"\n",
    "    os.makedirs(output_folder, exist_ok=True)\n",
    "    folders = sorted([f for f in os.listdir(base_folder) if os.path.isdir(os.path.join(base_folder, f))])\n",
    "    total_folders = len(folders)\n",
    "\n",
    "    print(f\"📂 Found {total_folders} folders. Processing with {num_workers} workers...\")\n",
    "\n",
    "    with ThreadPoolExecutor(max_workers=num_workers) as executor:  # Use threads instead of processes\n",
    "        futures = [executor.submit(process_folder, os.path.join(base_folder, folder), output_folder, idx, total_folders) \n",
    "                   for idx, folder in enumerate(folders)]\n",
    "        \n",
    "        for future in futures:\n",
    "            future.result()\n"
   ]
  },
  {
   "cell_type": "code",
   "execution_count": 7,
   "id": "20048437-4994-4e0a-a12a-e545ce97c83b",
   "metadata": {
    "scrolled": true
   },
   "outputs": [
    {
     "name": "stdout",
     "output_type": "stream",
     "text": [
      "📂 Found 156 folders. Processing with 2 workers...\n",
      "🟢 Processing folder 1/156: 000 (199 files)\n",
      "🟢 Processing folder 2/156: 001 (215 files)\n",
      "✅ Saved: /home/renzo/projects/stempalooza/procesed/000_tokens.npz\n",
      "🟢 Processing folder 3/156: 002 (5 files)\n",
      "✅ Saved: /home/renzo/projects/stempalooza/procesed/002_tokens.npz\n",
      "🟢 Processing folder 4/156: 003 (196 files)\n",
      "✅ Saved: /home/renzo/projects/stempalooza/procesed/001_tokens.npz\n",
      "🟢 Processing folder 5/156: 004 (240 files)\n",
      "✅ Saved: /home/renzo/projects/stempalooza/procesed/003_tokens.npz\n",
      "🟢 Processing folder 6/156: 005 (129 files)\n",
      "✅ Saved: /home/renzo/projects/stempalooza/procesed/004_tokens.npz\n",
      "🟢 Processing folder 7/156: 006 (151 files)\n",
      "✅ Saved: /home/renzo/projects/stempalooza/procesed/005_tokens.npz\n",
      "🟢 Processing folder 8/156: 007 (116 files)\n",
      "✅ Saved: /home/renzo/projects/stempalooza/procesed/006_tokens.npz\n",
      "🟢 Processing folder 9/156: 008 (78 files)\n",
      "✅ Saved: /home/renzo/projects/stempalooza/procesed/007_tokens.npz\n",
      "🟢 Processing folder 10/156: 009 (94 files)\n",
      "✅ Saved: /home/renzo/projects/stempalooza/procesed/008_tokens.npz\n",
      "🟢 Processing folder 11/156: 010 (230 files)\n",
      "✅ Saved: /home/renzo/projects/stempalooza/procesed/009_tokens.npz\n",
      "🟢 Processing folder 12/156: 011 (267 files)\n"
     ]
    },
    {
     "name": "stderr",
     "output_type": "stream",
     "text": [
      "[src/libmpg123/layer3.c:INT123_do_layer3():1844] error: dequantization failed!\n"
     ]
    },
    {
     "name": "stdout",
     "output_type": "stream",
     "text": [
      "✅ Saved: /home/renzo/projects/stempalooza/procesed/010_tokens.npz\n",
      "🟢 Processing folder 13/156: 012 (202 files)\n",
      "✅ Saved: /home/renzo/projects/stempalooza/procesed/011_tokens.npz\n",
      "🟢 Processing folder 14/156: 013 (158 files)\n",
      "✅ Saved: /home/renzo/projects/stempalooza/procesed/012_tokens.npz\n",
      "🟢 Processing folder 15/156: 014 (269 files)\n",
      "✅ Saved: /home/renzo/projects/stempalooza/procesed/013_tokens.npz\n",
      "🟢 Processing folder 16/156: 015 (142 files)\n",
      "✅ Saved: /home/renzo/projects/stempalooza/procesed/015_tokens.npz\n",
      "🟢 Processing folder 17/156: 016 (214 files)\n",
      "✅ Saved: /home/renzo/projects/stempalooza/procesed/014_tokens.npz\n",
      "🟢 Processing folder 18/156: 017 (169 files)\n"
     ]
    },
    {
     "name": "stderr",
     "output_type": "stream",
     "text": [
      "[src/libmpg123/layer3.c:INT123_do_layer3():1774] error: part2_3_length (3264) too large for available bit count (3224)\n"
     ]
    },
    {
     "name": "stdout",
     "output_type": "stream",
     "text": [
      "✅ Saved: /home/renzo/projects/stempalooza/procesed/016_tokens.npz\n",
      "🟢 Processing folder 19/156: 018 (136 files)\n",
      "✅ Saved: /home/renzo/projects/stempalooza/procesed/017_tokens.npz\n",
      "🟢 Processing folder 20/156: 019 (187 files)\n",
      "✅ Saved: /home/renzo/projects/stempalooza/procesed/018_tokens.npz\n",
      "🟢 Processing folder 21/156: 020 (192 files)\n",
      "✅ Saved: /home/renzo/projects/stempalooza/procesed/019_tokens.npz\n",
      "🟢 Processing folder 22/156: 021 (170 files)\n"
     ]
    },
    {
     "name": "stderr",
     "output_type": "stream",
     "text": [
      "[src/libmpg123/layer3.c:INT123_do_layer3():1804] error: dequantization failed!\n"
     ]
    },
    {
     "name": "stdout",
     "output_type": "stream",
     "text": [
      "✅ Saved: /home/renzo/projects/stempalooza/procesed/020_tokens.npz\n",
      "🟢 Processing folder 23/156: 022 (140 files)\n",
      "✅ Saved: /home/renzo/projects/stempalooza/procesed/021_tokens.npz\n",
      "🟢 Processing folder 24/156: 023 (159 files)\n",
      "✅ Saved: /home/renzo/projects/stempalooza/procesed/022_tokens.npz\n",
      "🟢 Processing folder 25/156: 024 (177 files)\n",
      "✅ Saved: /home/renzo/projects/stempalooza/procesed/023_tokens.npz\n",
      "🟢 Processing folder 26/156: 025 (103 files)\n",
      "✅ Saved: /home/renzo/projects/stempalooza/procesed/024_tokens.npz\n",
      "🟢 Processing folder 27/156: 026 (160 files)\n",
      "✅ Saved: /home/renzo/projects/stempalooza/procesed/025_tokens.npz\n",
      "🟢 Processing folder 28/156: 027 (141 files)\n",
      "✅ Saved: /home/renzo/projects/stempalooza/procesed/027_tokens.npz\n",
      "🟢 Processing folder 29/156: 028 (135 files)\n",
      "✅ Saved: /home/renzo/projects/stempalooza/procesed/026_tokens.npz\n",
      "🟢 Processing folder 30/156: 029 (145 files)\n"
     ]
    },
    {
     "name": "stderr",
     "output_type": "stream",
     "text": [
      "[src/libmpg123/layer3.c:INT123_do_layer3():1804] error: dequantization failed!\n"
     ]
    },
    {
     "name": "stdout",
     "output_type": "stream",
     "text": [
      "✅ Saved: /home/renzo/projects/stempalooza/procesed/028_tokens.npz\n",
      "🟢 Processing folder 31/156: 030 (135 files)\n",
      "✅ Saved: /home/renzo/projects/stempalooza/procesed/029_tokens.npz\n",
      "🟢 Processing folder 32/156: 031 (117 files)\n"
     ]
    },
    {
     "name": "stderr",
     "output_type": "stream",
     "text": [
      "[src/libmpg123/layer3.c:INT123_do_layer3():1804] error: dequantization failed!\n",
      "[src/libmpg123/layer3.c:INT123_do_layer3():1804] error: dequantization failed!\n"
     ]
    },
    {
     "name": "stdout",
     "output_type": "stream",
     "text": [
      "✅ Saved: /home/renzo/projects/stempalooza/procesed/031_tokens.npz\n",
      "🟢 Processing folder 33/156: 032 (184 files)\n",
      "✅ Saved: /home/renzo/projects/stempalooza/procesed/030_tokens.npz\n",
      "🟢 Processing folder 34/156: 033 (134 files)\n",
      "✅ Saved: /home/renzo/projects/stempalooza/procesed/033_tokens.npz\n",
      "🟢 Processing folder 35/156: 034 (95 files)\n",
      "✅ Saved: /home/renzo/projects/stempalooza/procesed/032_tokens.npz\n",
      "🟢 Processing folder 36/156: 035 (91 files)\n",
      "✅ Saved: /home/renzo/projects/stempalooza/procesed/034_tokens.npz\n",
      "🟢 Processing folder 37/156: 036 (170 files)\n",
      "✅ Saved: /home/renzo/projects/stempalooza/procesed/035_tokens.npz\n",
      "🟢 Processing folder 38/156: 037 (119 files)\n"
     ]
    },
    {
     "name": "stderr",
     "output_type": "stream",
     "text": [
      "[src/libmpg123/layer3.c:INT123_do_layer3():1804] error: dequantization failed!\n"
     ]
    },
    {
     "name": "stdout",
     "output_type": "stream",
     "text": [
      "✅ Saved: /home/renzo/projects/stempalooza/procesed/037_tokens.npz\n",
      "🟢 Processing folder 39/156: 038 (150 files)\n",
      "✅ Saved: /home/renzo/projects/stempalooza/procesed/036_tokens.npz\n",
      "🟢 Processing folder 40/156: 039 (109 files)\n",
      "✅ Saved: /home/renzo/projects/stempalooza/procesed/039_tokens.npz\n",
      "🟢 Processing folder 41/156: 040 (206 files)\n",
      "✅ Saved: /home/renzo/projects/stempalooza/procesed/038_tokens.npz\n",
      "🟢 Processing folder 42/156: 041 (124 files)\n",
      "✅ Saved: /home/renzo/projects/stempalooza/procesed/041_tokens.npz\n",
      "🟢 Processing folder 43/156: 042 (208 files)\n",
      "✅ Saved: /home/renzo/projects/stempalooza/procesed/040_tokens.npz\n",
      "🟢 Processing folder 44/156: 043 (166 files)\n",
      "✅ Saved: /home/renzo/projects/stempalooza/procesed/042_tokens.npz\n",
      "🟢 Processing folder 45/156: 044 (141 files)\n",
      "✅ Saved: /home/renzo/projects/stempalooza/procesed/043_tokens.npz\n",
      "🟢 Processing folder 46/156: 045 (115 files)\n",
      "✅ Saved: /home/renzo/projects/stempalooza/procesed/045_tokens.npz\n",
      "🟢 Processing folder 47/156: 046 (159 files)\n",
      "✅ Saved: /home/renzo/projects/stempalooza/procesed/044_tokens.npz\n",
      "🟢 Processing folder 48/156: 047 (184 files)\n",
      "✅ Saved: /home/renzo/projects/stempalooza/procesed/046_tokens.npz\n",
      "🟢 Processing folder 49/156: 048 (187 files)\n",
      "✅ Saved: /home/renzo/projects/stempalooza/procesed/047_tokens.npz\n",
      "🟢 Processing folder 50/156: 049 (95 files)\n",
      "✅ Saved: /home/renzo/projects/stempalooza/procesed/049_tokens.npz\n",
      "🟢 Processing folder 51/156: 050 (141 files)\n",
      "✅ Saved: /home/renzo/projects/stempalooza/procesed/048_tokens.npz\n",
      "🟢 Processing folder 52/156: 051 (202 files)\n",
      "✅ Saved: /home/renzo/projects/stempalooza/procesed/050_tokens.npz\n",
      "🟢 Processing folder 53/156: 052 (178 files)\n",
      "✅ Saved: /home/renzo/projects/stempalooza/procesed/051_tokens.npz\n",
      "🟢 Processing folder 54/156: 053 (115 files)\n",
      "✅ Saved: /home/renzo/projects/stempalooza/procesed/052_tokens.npz\n",
      "🟢 Processing folder 55/156: 054 (243 files)\n",
      "✅ Saved: /home/renzo/projects/stempalooza/procesed/053_tokens.npz\n",
      "🟢 Processing folder 56/156: 055 (213 files)\n"
     ]
    },
    {
     "name": "stderr",
     "output_type": "stream",
     "text": [
      "[src/libmpg123/layer3.c:INT123_do_layer3():1804] error: dequantization failed!\n",
      "[src/libmpg123/layer3.c:INT123_do_layer3():1774] error: part2_3_length (3360) too large for available bit count (3240)\n",
      "[src/libmpg123/layer3.c:INT123_do_layer3():1774] error: part2_3_length (3328) too large for available bit count (3240)\n",
      "[src/libmpg123/layer3.c:INT123_do_layer3():1804] error: dequantization failed!\n"
     ]
    },
    {
     "name": "stdout",
     "output_type": "stream",
     "text": [
      "✅ Saved: /home/renzo/projects/stempalooza/procesed/054_tokens.npz\n",
      "🟢 Processing folder 57/156: 056 (178 files)\n",
      "✅ Saved: /home/renzo/projects/stempalooza/procesed/055_tokens.npz\n",
      "🟢 Processing folder 58/156: 057 (205 files)\n",
      "✅ Saved: /home/renzo/projects/stempalooza/procesed/056_tokens.npz\n",
      "🟢 Processing folder 59/156: 058 (119 files)\n",
      "✅ Saved: /home/renzo/projects/stempalooza/procesed/057_tokens.npz\n",
      "🟢 Processing folder 60/156: 059 (201 files)\n",
      "✅ Saved: /home/renzo/projects/stempalooza/procesed/058_tokens.npz\n",
      "🟢 Processing folder 61/156: 060 (197 files)\n",
      "✅ Saved: /home/renzo/projects/stempalooza/procesed/059_tokens.npz\n",
      "🟢 Processing folder 62/156: 061 (122 files)\n",
      "✅ Saved: /home/renzo/projects/stempalooza/procesed/060_tokens.npz\n",
      "🟢 Processing folder 63/156: 062 (168 files)\n",
      "✅ Saved: /home/renzo/projects/stempalooza/procesed/061_tokens.npz\n",
      "🟢 Processing folder 64/156: 063 (237 files)\n",
      "✅ Saved: /home/renzo/projects/stempalooza/procesed/062_tokens.npz\n",
      "🟢 Processing folder 65/156: 064 (243 files)\n",
      "✅ Saved: /home/renzo/projects/stempalooza/procesed/063_tokens.npz\n",
      "🟢 Processing folder 66/156: 065 (144 files)\n",
      "✅ Saved: /home/renzo/projects/stempalooza/procesed/064_tokens.npz\n",
      "🟢 Processing folder 67/156: 066 (264 files)\n",
      "✅ Saved: /home/renzo/projects/stempalooza/procesed/065_tokens.npz\n",
      "🟢 Processing folder 68/156: 067 (187 files)\n",
      "✅ Saved: /home/renzo/projects/stempalooza/procesed/067_tokens.npz\n",
      "🟢 Processing folder 69/156: 068 (180 files)\n",
      "✅ Saved: /home/renzo/projects/stempalooza/procesed/066_tokens.npz\n",
      "🟢 Processing folder 70/156: 069 (191 files)\n",
      "✅ Saved: /home/renzo/projects/stempalooza/procesed/068_tokens.npz\n",
      "🟢 Processing folder 71/156: 070 (173 files)\n",
      "✅ Saved: /home/renzo/projects/stempalooza/procesed/069_tokens.npz\n",
      "🟢 Processing folder 72/156: 071 (326 files)\n",
      "✅ Saved: /home/renzo/projects/stempalooza/procesed/070_tokens.npz\n",
      "🟢 Processing folder 73/156: 072 (165 files)\n",
      "✅ Saved: /home/renzo/projects/stempalooza/procesed/072_tokens.npz\n",
      "🟢 Processing folder 74/156: 073 (156 files)\n",
      "✅ Saved: /home/renzo/projects/stempalooza/procesed/071_tokens.npz\n",
      "🟢 Processing folder 75/156: 074 (153 files)\n"
     ]
    },
    {
     "name": "stderr",
     "output_type": "stream",
     "text": [
      "[src/libmpg123/layer3.c:INT123_do_layer3():1844] error: dequantization failed!\n"
     ]
    },
    {
     "name": "stdout",
     "output_type": "stream",
     "text": [
      "✅ Saved: /home/renzo/projects/stempalooza/procesed/073_tokens.npz\n",
      "🟢 Processing folder 76/156: 075 (242 files)\n",
      "✅ Saved: /home/renzo/projects/stempalooza/procesed/074_tokens.npz\n",
      "🟢 Processing folder 77/156: 076 (113 files)\n",
      "✅ Saved: /home/renzo/projects/stempalooza/procesed/076_tokens.npz\n",
      "🟢 Processing folder 78/156: 077 (64 files)\n",
      "✅ Saved: /home/renzo/projects/stempalooza/procesed/077_tokens.npz\n",
      "🟢 Processing folder 79/156: 078 (73 files)\n",
      "✅ Saved: /home/renzo/projects/stempalooza/procesed/075_tokens.npz\n",
      "🟢 Processing folder 80/156: 079 (92 files)\n",
      "✅ Saved: /home/renzo/projects/stempalooza/procesed/078_tokens.npz\n",
      "🟢 Processing folder 81/156: 080 (132 files)\n",
      "✅ Saved: /home/renzo/projects/stempalooza/procesed/079_tokens.npz\n",
      "🟢 Processing folder 82/156: 081 (115 files)\n",
      "✅ Saved: /home/renzo/projects/stempalooza/procesed/080_tokens.npz\n",
      "🟢 Processing folder 83/156: 082 (188 files)\n",
      "✅ Saved: /home/renzo/projects/stempalooza/procesed/081_tokens.npz\n",
      "🟢 Processing folder 84/156: 083 (118 files)\n",
      "✅ Saved: /home/renzo/projects/stempalooza/procesed/083_tokens.npz\n",
      "🟢 Processing folder 85/156: 084 (124 files)\n",
      "✅ Saved: /home/renzo/projects/stempalooza/procesed/082_tokens.npz\n",
      "🟢 Processing folder 86/156: 085 (156 files)\n",
      "✅ Saved: /home/renzo/projects/stempalooza/procesed/084_tokens.npz\n",
      "🟢 Processing folder 87/156: 086 (125 files)\n",
      "✅ Saved: /home/renzo/projects/stempalooza/procesed/085_tokens.npz\n",
      "🟢 Processing folder 88/156: 087 (174 files)\n",
      "✅ Saved: /home/renzo/projects/stempalooza/procesed/086_tokens.npz\n",
      "🟢 Processing folder 89/156: 088 (63 files)\n",
      "✅ Saved: /home/renzo/projects/stempalooza/procesed/088_tokens.npz\n",
      "🟢 Processing folder 90/156: 089 (75 files)\n",
      "✅ Saved: /home/renzo/projects/stempalooza/procesed/087_tokens.npz\n",
      "🟢 Processing folder 91/156: 090 (94 files)\n",
      "✅ Saved: /home/renzo/projects/stempalooza/procesed/089_tokens.npz\n",
      "🟢 Processing folder 92/156: 091 (279 files)\n",
      "✅ Saved: /home/renzo/projects/stempalooza/procesed/090_tokens.npz\n",
      "🟢 Processing folder 93/156: 092 (119 files)\n",
      "✅ Saved: /home/renzo/projects/stempalooza/procesed/092_tokens.npz\n",
      "🟢 Processing folder 94/156: 093 (138 files)\n",
      "✅ Saved: /home/renzo/projects/stempalooza/procesed/091_tokens.npz\n",
      "🟢 Processing folder 95/156: 094 (111 files)\n",
      "✅ Saved: /home/renzo/projects/stempalooza/procesed/093_tokens.npz\n",
      "🟢 Processing folder 96/156: 095 (117 files)\n",
      "✅ Saved: /home/renzo/projects/stempalooza/procesed/094_tokens.npz\n",
      "🟢 Processing folder 97/156: 096 (128 files)\n",
      "✅ Saved: /home/renzo/projects/stempalooza/procesed/095_tokens.npz\n",
      "🟢 Processing folder 98/156: 097 (185 files)\n",
      "✅ Saved: /home/renzo/projects/stempalooza/procesed/096_tokens.npz\n",
      "🟢 Processing folder 99/156: 098 (230 files)\n"
     ]
    },
    {
     "name": "stderr",
     "output_type": "stream",
     "text": [
      "Note: Illegal Audio-MPEG-Header 0x00000000 at offset 33361.\n",
      "Note: Trying to resync...\n",
      "Note: Skipped 1024 bytes in input.\n",
      "[src/libmpg123/parse.c:wetwork():1349] error: Giving up resync after 1024 bytes - your stream is not nice... (maybe increasing resync limit could help).\n"
     ]
    },
    {
     "name": "stdout",
     "output_type": "stream",
     "text": [
      "⚠ Soundfile failed for /home/renzo/projects/stempalooza/audio/098/098565.mp3, trying Librosa (FFmpeg)... Error: Unspecified internal error.\n",
      "⚠ Librosa (FFmpeg) failed for /home/renzo/projects/stempalooza/audio/098/098565.mp3, trying pydub... Error: load() got an unexpected keyword argument 'backend'\n"
     ]
    },
    {
     "name": "stderr",
     "output_type": "stream",
     "text": [
      "Note: Illegal Audio-MPEG-Header 0x00000000 at offset 187493.\n",
      "Note: Trying to resync...\n",
      "Note: Skipped 1024 bytes in input.\n",
      "[src/libmpg123/parse.c:wetwork():1349] error: Giving up resync after 1024 bytes - your stream is not nice... (maybe increasing resync limit could help).\n"
     ]
    },
    {
     "name": "stdout",
     "output_type": "stream",
     "text": [
      "⚠ Soundfile failed for /home/renzo/projects/stempalooza/audio/098/098566.mp3, trying Librosa (FFmpeg)... Error: Unspecified internal error.\n",
      "⚠ Librosa (FFmpeg) failed for /home/renzo/projects/stempalooza/audio/098/098566.mp3, trying pydub... Error: load() got an unexpected keyword argument 'backend'\n"
     ]
    },
    {
     "name": "stderr",
     "output_type": "stream",
     "text": [
      "Note: Illegal Audio-MPEG-Header 0x00000000 at offset 22401.\n",
      "Note: Trying to resync...\n",
      "Note: Skipped 1024 bytes in input.\n",
      "[src/libmpg123/parse.c:wetwork():1349] error: Giving up resync after 1024 bytes - your stream is not nice... (maybe increasing resync limit could help).\n"
     ]
    },
    {
     "name": "stdout",
     "output_type": "stream",
     "text": [
      "⚠ Soundfile failed for /home/renzo/projects/stempalooza/audio/098/098567.mp3, trying Librosa (FFmpeg)... Error: Unspecified internal error.\n",
      "⚠ Librosa (FFmpeg) failed for /home/renzo/projects/stempalooza/audio/098/098567.mp3, trying pydub... Error: load() got an unexpected keyword argument 'backend'\n"
     ]
    },
    {
     "name": "stderr",
     "output_type": "stream",
     "text": [
      "Note: Illegal Audio-MPEG-Header 0x00000000 at offset 106439.\n",
      "Note: Trying to resync...\n",
      "Note: Skipped 1024 bytes in input.\n",
      "[src/libmpg123/parse.c:wetwork():1349] error: Giving up resync after 1024 bytes - your stream is not nice... (maybe increasing resync limit could help).\n"
     ]
    },
    {
     "name": "stdout",
     "output_type": "stream",
     "text": [
      "⚠ Soundfile failed for /home/renzo/projects/stempalooza/audio/098/098568.mp3, trying Librosa (FFmpeg)... Error: Unspecified internal error.\n",
      "⚠ Librosa (FFmpeg) failed for /home/renzo/projects/stempalooza/audio/098/098568.mp3, trying pydub... Error: load() got an unexpected keyword argument 'backend'\n"
     ]
    },
    {
     "name": "stderr",
     "output_type": "stream",
     "text": [
      "[src/libmpg123/layer3.c:INT123_do_layer3():1804] error: dequantization failed!\n",
      "Note: Illegal Audio-MPEG-Header 0x00000000 at offset 63168.\n",
      "Note: Trying to resync...\n",
      "Note: Skipped 1024 bytes in input.\n",
      "[src/libmpg123/parse.c:wetwork():1349] error: Giving up resync after 1024 bytes - your stream is not nice... (maybe increasing resync limit could help).\n"
     ]
    },
    {
     "name": "stdout",
     "output_type": "stream",
     "text": [
      "⚠ Soundfile failed for /home/renzo/projects/stempalooza/audio/098/098569.mp3, trying Librosa (FFmpeg)... Error: Unspecified internal error.\n",
      "⚠ Librosa (FFmpeg) failed for /home/renzo/projects/stempalooza/audio/098/098569.mp3, trying pydub... Error: load() got an unexpected keyword argument 'backend'\n",
      "✅ Saved: /home/renzo/projects/stempalooza/procesed/097_tokens.npz\n",
      "🟢 Processing folder 100/156: 099 (199 files)\n",
      "✅ Saved: /home/renzo/projects/stempalooza/procesed/098_tokens.npz\n",
      "🟢 Processing folder 101/156: 100 (59 files)\n",
      "✅ Saved: /home/renzo/projects/stempalooza/procesed/100_tokens.npz\n",
      "🟢 Processing folder 102/156: 101 (52 files)\n",
      "✅ Saved: /home/renzo/projects/stempalooza/procesed/099_tokens.npz\n",
      "🟢 Processing folder 103/156: 102 (48 files)\n",
      "✅ Saved: /home/renzo/projects/stempalooza/procesed/101_tokens.npz\n",
      "🟢 Processing folder 104/156: 103 (32 files)\n",
      "✅ Saved: /home/renzo/projects/stempalooza/procesed/103_tokens.npz\n",
      "🟢 Processing folder 105/156: 104 (107 files)\n",
      "✅ Saved: /home/renzo/projects/stempalooza/procesed/102_tokens.npz\n",
      "🟢 Processing folder 106/156: 105 (151 files)\n",
      "✅ Saved: /home/renzo/projects/stempalooza/procesed/104_tokens.npz\n",
      "🟢 Processing folder 107/156: 106 (103 files)\n",
      "✅ Saved: /home/renzo/projects/stempalooza/procesed/105_tokens.npz\n",
      "🟢 Processing folder 108/156: 107 (217 files)\n"
     ]
    },
    {
     "name": "stderr",
     "output_type": "stream",
     "text": [
      "[src/libmpg123/layer3.c:INT123_do_layer3():1804] error: dequantization failed!\n"
     ]
    },
    {
     "name": "stdout",
     "output_type": "stream",
     "text": [
      "✅ Saved: /home/renzo/projects/stempalooza/procesed/106_tokens.npz\n",
      "🟢 Processing folder 109/156: 108 (254 files)\n",
      "✅ Saved: /home/renzo/projects/stempalooza/procesed/107_tokens.npz\n",
      "🟢 Processing folder 110/156: 109 (242 files)\n"
     ]
    },
    {
     "name": "stderr",
     "output_type": "stream",
     "text": [
      "Warning: Xing stream size off by more than 1%, fuzzy seeking may be even more fuzzy than by design!\n",
      "[src/libmpg123/layer3.c:INT123_do_layer3():1804] error: dequantization failed!\n"
     ]
    },
    {
     "name": "stdout",
     "output_type": "stream",
     "text": [
      "✅ Saved: /home/renzo/projects/stempalooza/procesed/108_tokens.npz\n",
      "🟢 Processing folder 111/156: 110 (190 files)\n"
     ]
    },
    {
     "name": "stderr",
     "output_type": "stream",
     "text": [
      "[src/libmpg123/layer3.c:INT123_do_layer3():1804] error: dequantization failed!\n"
     ]
    },
    {
     "name": "stdout",
     "output_type": "stream",
     "text": [
      "✅ Saved: /home/renzo/projects/stempalooza/procesed/109_tokens.npz\n",
      "🟢 Processing folder 112/156: 111 (221 files)\n",
      "✅ Saved: /home/renzo/projects/stempalooza/procesed/110_tokens.npz\n",
      "🟢 Processing folder 113/156: 112 (165 files)\n",
      "✅ Saved: /home/renzo/projects/stempalooza/procesed/112_tokens.npz\n",
      "🟢 Processing folder 114/156: 113 (232 files)\n",
      "✅ Saved: /home/renzo/projects/stempalooza/procesed/111_tokens.npz\n",
      "🟢 Processing folder 115/156: 114 (189 files)\n",
      "✅ Saved: /home/renzo/projects/stempalooza/procesed/114_tokens.npz\n",
      "🟢 Processing folder 116/156: 115 (163 files)\n",
      "✅ Saved: /home/renzo/projects/stempalooza/procesed/113_tokens.npz\n",
      "🟢 Processing folder 117/156: 116 (233 files)\n",
      "✅ Saved: /home/renzo/projects/stempalooza/procesed/115_tokens.npz\n",
      "🟢 Processing folder 118/156: 117 (124 files)\n",
      "✅ Saved: /home/renzo/projects/stempalooza/procesed/116_tokens.npz\n",
      "🟢 Processing folder 119/156: 118 (200 files)\n",
      "✅ Saved: /home/renzo/projects/stempalooza/procesed/117_tokens.npz\n",
      "🟢 Processing folder 120/156: 119 (136 files)\n",
      "✅ Saved: /home/renzo/projects/stempalooza/procesed/119_tokens.npz\n",
      "🟢 Processing folder 121/156: 120 (185 files)\n",
      "✅ Saved: /home/renzo/projects/stempalooza/procesed/118_tokens.npz\n",
      "🟢 Processing folder 122/156: 121 (161 files)\n",
      "✅ Saved: /home/renzo/projects/stempalooza/procesed/120_tokens.npz\n",
      "🟢 Processing folder 123/156: 122 (287 files)\n",
      "✅ Saved: /home/renzo/projects/stempalooza/procesed/121_tokens.npz\n",
      "🟢 Processing folder 124/156: 123 (268 files)\n",
      "✅ Saved: /home/renzo/projects/stempalooza/procesed/123_tokens.npz\n",
      "🟢 Processing folder 125/156: 124 (196 files)\n",
      "✅ Saved: /home/renzo/projects/stempalooza/procesed/122_tokens.npz\n",
      "🟢 Processing folder 126/156: 125 (200 files)\n",
      "✅ Saved: /home/renzo/projects/stempalooza/procesed/124_tokens.npz\n",
      "🟢 Processing folder 127/156: 126 (304 files)\n",
      "✅ Saved: /home/renzo/projects/stempalooza/procesed/125_tokens.npz\n",
      "🟢 Processing folder 128/156: 127 (264 files)\n",
      "✅ Saved: /home/renzo/projects/stempalooza/procesed/127_tokens.npz\n",
      "🟢 Processing folder 129/156: 128 (115 files)\n",
      "✅ Saved: /home/renzo/projects/stempalooza/procesed/126_tokens.npz\n",
      "🟢 Processing folder 130/156: 129 (272 files)\n",
      "✅ Saved: /home/renzo/projects/stempalooza/procesed/128_tokens.npz\n",
      "🟢 Processing folder 131/156: 130 (238 files)\n",
      "✅ Saved: /home/renzo/projects/stempalooza/procesed/129_tokens.npz\n",
      "🟢 Processing folder 132/156: 131 (228 files)\n",
      "✅ Saved: /home/renzo/projects/stempalooza/procesed/130_tokens.npz\n",
      "🟢 Processing folder 133/156: 132 (202 files)\n",
      "✅ Saved: /home/renzo/projects/stempalooza/procesed/131_tokens.npz\n",
      "🟢 Processing folder 134/156: 133 (201 files)\n",
      "✅ Saved: /home/renzo/projects/stempalooza/procesed/132_tokens.npz\n",
      "🟢 Processing folder 135/156: 134 (160 files)\n",
      "✅ Saved: /home/renzo/projects/stempalooza/procesed/134_tokens.npz\n",
      "🟢 Processing folder 136/156: 135 (71 files)\n",
      "✅ Saved: /home/renzo/projects/stempalooza/procesed/133_tokens.npz\n",
      "🟢 Processing folder 137/156: 136 (105 files)\n",
      "✅ Saved: /home/renzo/projects/stempalooza/procesed/135_tokens.npz\n",
      "🟢 Processing folder 138/156: 137 (228 files)\n",
      "✅ Saved: /home/renzo/projects/stempalooza/procesed/136_tokens.npz\n",
      "🟢 Processing folder 139/156: 138 (165 files)\n",
      "✅ Saved: /home/renzo/projects/stempalooza/procesed/138_tokens.npz\n",
      "🟢 Processing folder 140/156: 139 (146 files)\n",
      "✅ Saved: /home/renzo/projects/stempalooza/procesed/137_tokens.npz\n",
      "🟢 Processing folder 141/156: 140 (161 files)\n",
      "✅ Saved: /home/renzo/projects/stempalooza/procesed/139_tokens.npz\n",
      "🟢 Processing folder 142/156: 141 (131 files)\n",
      "✅ Saved: /home/renzo/projects/stempalooza/procesed/140_tokens.npz\n",
      "🟢 Processing folder 143/156: 142 (173 files)\n",
      "✅ Saved: /home/renzo/projects/stempalooza/procesed/141_tokens.npz\n",
      "🟢 Processing folder 144/156: 143 (129 files)\n",
      "✅ Saved: /home/renzo/projects/stempalooza/procesed/142_tokens.npz\n",
      "🟢 Processing folder 145/156: 144 (140 files)\n",
      "✅ Saved: /home/renzo/projects/stempalooza/procesed/143_tokens.npz\n",
      "🟢 Processing folder 146/156: 145 (227 files)\n",
      "✅ Saved: /home/renzo/projects/stempalooza/procesed/144_tokens.npz\n",
      "🟢 Processing folder 147/156: 146 (108 files)\n",
      "✅ Saved: /home/renzo/projects/stempalooza/procesed/146_tokens.npz\n",
      "🟢 Processing folder 148/156: 147 (157 files)\n",
      "✅ Saved: /home/renzo/projects/stempalooza/procesed/145_tokens.npz\n",
      "🟢 Processing folder 149/156: 148 (227 files)\n",
      "✅ Saved: /home/renzo/projects/stempalooza/procesed/147_tokens.npz\n",
      "🟢 Processing folder 150/156: 149 (153 files)\n",
      "✅ Saved: /home/renzo/projects/stempalooza/procesed/148_tokens.npz\n",
      "🟢 Processing folder 151/156: 150 (61 files)\n",
      "✅ Saved: /home/renzo/projects/stempalooza/procesed/149_tokens.npz\n",
      "🟢 Processing folder 152/156: 151 (83 files)\n",
      "✅ Saved: /home/renzo/projects/stempalooza/procesed/150_tokens.npz\n",
      "🟢 Processing folder 153/156: 152 (101 files)\n",
      "✅ Saved: /home/renzo/projects/stempalooza/procesed/151_tokens.npz\n",
      "🟢 Processing folder 154/156: 153 (23 files)\n",
      "✅ Saved: /home/renzo/projects/stempalooza/procesed/153_tokens.npz\n",
      "🟢 Processing folder 155/156: 154 (72 files)\n",
      "✅ Saved: /home/renzo/projects/stempalooza/procesed/152_tokens.npz\n",
      "🟢 Processing folder 156/156: 155 (24 files)\n",
      "✅ Saved: /home/renzo/projects/stempalooza/procesed/155_tokens.npz\n",
      "✅ Saved: /home/renzo/projects/stempalooza/procesed/154_tokens.npz\n"
     ]
    }
   ],
   "source": [
    "base_folder = \"/home/renzo/projects/stempalooza/audio\"\n",
    "output_folder = \"/home/renzo/projects/stempalooza/transformer/procesed\"\n",
    "\n",
    "#print(process_audio_file(\"/home/renzo/projects/stempalooza/audio/000/000002.mp3\"))\n",
    "#process_folder(\"/home/renzo/projects/stempalooza/audio/000/\",output_folder,1,100)\n",
    "\n",
    "process_all_folders(base_folder, output_folder, num_workers=2)"
   ]
  },
  {
   "cell_type": "code",
   "execution_count": 7,
   "id": "6650b0e9-1971-4ec4-ada7-91e78ab18d64",
   "metadata": {},
   "outputs": [],
   "source": [
    "from scipy.io.wavfile import write\n",
    "\n",
    "def reconstruct_audio(tokens, output_path, segment_length=1/8, sample_rate=44100):\n",
    "    \"\"\"Reconstructs a simplified audio waveform using ISTFT.\"\"\"\n",
    "    time_steps = int(sample_rate * segment_length)\n",
    "    reconstructed_waveform = np.zeros(time_steps * len(tokens))\n",
    "\n",
    "    for i, token_set in enumerate(tokens):\n",
    "        t = np.linspace(0, segment_length, time_steps, endpoint=False)\n",
    "        segment_wave = np.zeros(time_steps)\n",
    "\n",
    "        for freq, mag, phase in token_set:\n",
    "            segment_wave += mag * np.sin(2 * np.pi * freq * t + phase)\n",
    "\n",
    "        start_idx = i * time_steps\n",
    "        reconstructed_waveform[start_idx:start_idx + time_steps] = segment_wave\n",
    "\n",
    "    # Normalize to 16-bit WAV\n",
    "    reconstructed_waveform = np.int16(reconstructed_waveform / np.max(np.abs(reconstructed_waveform)) * 32767)\n",
    "    \n",
    "    write(output_path, sample_rate, reconstructed_waveform)\n",
    "\n",
    "# Example usage\n",
    "tokens = np.load(\"/home/renzo/projects/stempalooza/procesed/133_tokens.npz\", allow_pickle=True)[\"133003.mp3\"]\n",
    "reconstruct_audio(tokens, \"reconstructed_audio.wav\")\n"
   ]
  }
 ],
 "metadata": {
  "kernelspec": {
   "display_name": "stem",
   "language": "python",
   "name": "stem"
  },
  "language_info": {
   "codemirror_mode": {
    "name": "ipython",
    "version": 3
   },
   "file_extension": ".py",
   "mimetype": "text/x-python",
   "name": "python",
   "nbconvert_exporter": "python",
   "pygments_lexer": "ipython3",
   "version": "3.13.2"
  }
 },
 "nbformat": 4,
 "nbformat_minor": 5
}
