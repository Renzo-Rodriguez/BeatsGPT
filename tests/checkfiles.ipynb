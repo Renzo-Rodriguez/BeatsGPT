{
 "cells": [
  {
   "cell_type": "code",
   "execution_count": 3,
   "id": "eddbe2cf-8f12-4a0a-be4b-d3b4d4e9f120",
   "metadata": {},
   "outputs": [
    {
     "name": "stdout",
     "output_type": "stream",
     "text": [
      "Collecting wave\n",
      "  Downloading Wave-0.0.2.zip (38 kB)\n",
      "  Installing build dependencies ... \u001b[done\n",
      "\u001b[?25h  Getting requirements to build wheel ... \u001b[?25ldone\n",
      "\u001b[?25h  Preparing metadata (pyproject.toml) ... \u001b[?25ldone\n",
      "\u001b[?25hCollecting audiofile\n",
      "  Downloading audiofile-1.5.1-py3-none-any.whl.metadata (4.9 kB)\n",
      "Requirement already satisfied: pydub in ./stem/lib/python3.13/site-packages (0.25.1)\n",
      "Collecting audeer (from audiofile)\n",
      "  Downloading audeer-2.2.1-py3-none-any.whl.metadata (4.1 kB)\n",
      "Collecting audmath>=1.3.0 (from audiofile)\n",
      "  Downloading audmath-1.4.1-py3-none-any.whl.metadata (3.6 kB)\n",
      "Requirement already satisfied: numpy in ./stem/lib/python3.13/site-packages (from audiofile) (2.1.3)\n",
      "Requirement already satisfied: soundfile>=0.12.1 in ./stem/lib/python3.13/site-packages (from audiofile) (0.13.1)\n",
      "Requirement already satisfied: cffi>=1.0 in ./stem/lib/python3.13/site-packages (from soundfile>=0.12.1->audiofile) (1.17.1)\n",
      "Requirement already satisfied: tqdm in ./stem/lib/python3.13/site-packages (from audeer->audiofile) (4.67.1)\n",
      "Requirement already satisfied: pycparser in ./stem/lib/python3.13/site-packages (from cffi>=1.0->soundfile>=0.12.1->audiofile) (2.22)\n",
      "Downloading audiofile-1.5.1-py3-none-any.whl (1.1 MB)\n",
      "\u001b[2K   \u001b[38;2;114;156;31m━━━━━━━━━━━━━━━━━━━━━━━━━━━━━━━━━━━━━━━━\u001b[0m \u001b[32m1.1/1.1 MB\u001b[0m \u001b[31m2.9 MB/s\u001b[0m eta \u001b[36m0:00:00\u001b[0m MB/s\u001b[0m eta \u001b[36m0:00:01\u001b[0m\n",
      "\u001b[?25hDownloading audmath-1.4.1-py3-none-any.whl (23 kB)\n",
      "Downloading audeer-2.2.1-py3-none-any.whl (41 kB)\n",
      "Building wheels for collected packages: wave\n",
      "  Building wheel for wave (pyproject.toml) ... \u001b[?25ldone\n",
      "\u001b[?25h  Created wheel for wave: filename=wave-0.0.2-py3-none-any.whl size=1267 sha256=12364f0f1255129eced79569d7330548b309ff36fbe309052ad7296056c1f028\n",
      "  Stored in directory: /home/renzo/.cache/pip/wheels/bf/b5/5c/a8ac9d46e3fc787b2dea31709d43df0622654596b4f2e236c2\n",
      "Successfully built wave\n",
      "Installing collected packages: wave, audmath, audeer, audiofile\n",
      "Successfully installed audeer-2.2.1 audiofile-1.5.1 audmath-1.4.1 wave-0.0.2\n"
     ]
    }
   ],
   "source": [
    "!pip install wave audiofile pydub"
   ]
  },
  {
   "cell_type": "code",
   "execution_count": null,
   "id": "57b1a6f8-86a2-43f6-82d5-448872dde04a",
   "metadata": {},
   "outputs": [
    {
     "name": "stdout",
     "output_type": "stream",
     "text": [
      "running\n",
      "/home/renzo/projects/stempalooza/audio\n",
      "/home/renzo/projects/stempalooza/audio/109\n",
      "/home/renzo/projects/stempalooza/audio/113\n",
      "/home/renzo/projects/stempalooza/audio/125\n",
      "/home/renzo/projects/stempalooza/audio/015\n",
      "/home/renzo/projects/stempalooza/audio/104\n",
      "/home/renzo/projects/stempalooza/audio/029\n",
      "/home/renzo/projects/stempalooza/audio/025\n",
      "/home/renzo/projects/stempalooza/audio/046\n",
      "/home/renzo/projects/stempalooza/audio/003\n"
     ]
    }
   ],
   "source": [
    "import os\n",
    "from pydub import AudioSegment\n",
    "from pydub.utils import mediainfo\n",
    "\n",
    "# Function to check if the audio file is valid\n",
    "def is_valid_audio_file(filepath):\n",
    "    try:\n",
    "        # Check if the file is a valid audio format by attempting to open it with pydub\n",
    "        audio = AudioSegment.from_file(filepath)\n",
    "        return True\n",
    "    except Exception as e:\n",
    "        print(f\"Error reading {filepath}: {e}\")\n",
    "        return False\n",
    "\n",
    "# Function to walk through directories and check each file\n",
    "def check_audio_files(directory):\n",
    "    for root, dirs, files in os.walk(directory):\n",
    "        print(root)\n",
    "        for file in files:\n",
    "            filepath = os.path.join(root, file)\n",
    "            #print(filepath)\n",
    "            if not is_valid_audio_file(filepath):\n",
    "                print(f\"Invalid file detected: {filepath}\")\n",
    "                user_input = input(f\"Do you want to delete this file? (y/n): \").strip().lower()\n",
    "                if user_input == 'y':\n",
    "                    try:\n",
    "                        os.remove(filepath)\n",
    "                        print(f\"Deleted: {filepath}\")\n",
    "                    except Exception as e:\n",
    "                        print(f\"Error deleting {filepath}: {e}\")\n",
    "                else:\n",
    "                    print(f\"Skipped: {filepath}\")\n",
    "\n",
    "if __name__ == \"__main__\":\n",
    "    print('running')\n",
    "    # Replace this with your audio folder path\n",
    "    audio_folder = \"/home/renzo/projects/stempalooza/audio\"\n",
    "    check_audio_files(audio_folder)\n"
   ]
  },
  {
   "cell_type": "code",
   "execution_count": null,
   "id": "45df4032-1eb1-4ee8-a47a-40dbdc3f36e3",
   "metadata": {},
   "outputs": [],
   "source": []
  }
 ],
 "metadata": {
  "kernelspec": {
   "display_name": "stem",
   "language": "python",
   "name": "stem"
  },
  "language_info": {
   "codemirror_mode": {
    "name": "ipython",
    "version": 3
   },
   "file_extension": ".py",
   "mimetype": "text/x-python",
   "name": "python",
   "nbconvert_exporter": "python",
   "pygments_lexer": "ipython3",
   "version": "3.13.2"
  }
 },
 "nbformat": 4,
 "nbformat_minor": 5
}
